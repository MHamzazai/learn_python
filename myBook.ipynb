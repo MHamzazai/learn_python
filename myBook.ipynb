{
 "cells": [
  {
   "cell_type": "markdown",
   "id": "074c50c0",
   "metadata": {},
   "source": [
    "# Class 1\n",
    "## *My first python jupyter notebook*"
   ]
  },
  {
   "cell_type": "code",
   "execution_count": null,
   "id": "b5492ea8",
   "metadata": {},
   "outputs": [
    {
     "name": "stdout",
     "output_type": "stream",
     "text": [
      "44\n",
      "<class 'int'>\n",
      "140708442230552\n"
     ]
    }
   ],
   "source": [
    "name:str = 'hamed'\n",
    "name = 44\n",
    "print(name) # printng name variable\n",
    "print(type(name)) # printng type of name variable\n",
    "print(id(name)) # printing the address of name variable in memory"
   ]
  },
  {
   "cell_type": "markdown",
   "id": "f7981f24",
   "metadata": {},
   "source": [
    "# Class 2.\n",
    "## Rules for variable naming and best practice"
   ]
  },
  {
   "cell_type": "code",
   "execution_count": null,
   "id": "c38fced0",
   "metadata": {},
   "outputs": [],
   "source": [
    "name : str = 'hamza' # always make the first letter of variable name small\n",
    "father_name : str = 'ifraq' # only use underscores in variable name and also second letter should be small\n",
    "age : int = 15 # always use spaces between variable name and equal sign\n",
    "# use type annotations (Optional) but more readable"
   ]
  },
  {
   "cell_type": "markdown",
   "id": "44340aa2",
   "metadata": {},
   "source": [
    "# Power of String (str) Data Type "
   ]
  },
  {
   "cell_type": "markdown",
   "id": "0f2cc21f",
   "metadata": {},
   "source": [
    "### *string is most powerfull data type in all programming languages*\n",
    "It can be defined using boundaries:\n",
    "1. single quoted ('string').\n",
    "2. double quoted (\"string\").\n",
    "3. triple single quotes ('''string'''). used for multiline strings.\n",
    "4. triple double quotes (\"\"\"string\"\"\"). used for multiline strings.\n",
    "5. raw string (r'string'). used for raw strings.(it is used to print special characters as it is)"
   ]
  },
  {
   "cell_type": "code",
   "execution_count": 29,
   "id": "e8bf3f4b",
   "metadata": {},
   "outputs": [
    {
     "name": "stdout",
     "output_type": "stream",
     "text": [
      "This is a message\n",
      "This is a message\n",
      "\n",
      "                            This is a long message 1\n",
      "\n",
      "                            This is a long message 2 \n"
     ]
    }
   ],
   "source": [
    "# example of above lesson \n",
    "# single line string\n",
    "single_message : str = \"This is a message\"\n",
    "double_message : str = 'This is a message'\n",
    "\n",
    "''' \n",
    "double_message : str = 'This is a \n",
    "     message ' (error)\n",
    "'''\n",
    "\n",
    "\n",
    "# multi line string\n",
    "singel_triple_message : str = '''\n",
    "                            This is a long message 1'''\n",
    "double_triple_message : str = \"\"\"\n",
    "                            This is a long message 2 \"\"\"\n",
    "\n",
    "print(single_message)\n",
    "print(double_message)\n",
    "print(singel_triple_message)\n",
    "print(double_triple_message)"
   ]
  },
  {
   "cell_type": "markdown",
   "id": "e11d5ce9",
   "metadata": {},
   "source": [
    "### If you want to use special characters in your code *(', \", \\, etc)*"
   ]
  },
  {
   "cell_type": "code",
   "execution_count": null,
   "id": "6d0439aa",
   "metadata": {},
   "outputs": [
    {
     "name": "stdout",
     "output_type": "stream",
     "text": [
      "It's a special message !\n",
      "It is first line     And it is second line\n"
     ]
    }
   ],
   "source": [
    "# If you want to use special characters in your code you just put backward slash '\\' before it \n",
    "# example : str = 'It's' (error)\n",
    "\n",
    "use_special : str = 'It\\'s a special message !' \n",
    "print(use_special)\n",
    "\n",
    "# \"\\\" It is also use to change line but the answer will be in one line\n",
    "message : str = 'It is first line \\\n",
    "    And it is second line'\n",
    "print(message)"
   ]
  },
  {
   "cell_type": "markdown",
   "id": "a03cd0ef",
   "metadata": {},
   "source": [
    "### Make a card using this single string \"\",''"
   ]
  },
  {
   "cell_type": "code",
   "execution_count": 87,
   "metadata": {},
   "outputs": [
    {
     "name": "stdout",
     "output_type": "stream",
     "text": [
      "\tSTUDENT CARD 1 \n",
      "Name: M.Hamza zai\n",
      "Father Name: M.Ifraq zai\n",
      "Age: 15\n",
      "Education: B.Com\n",
      "\n",
      "\tSTUDENT CARD 2\n",
      "Name: ...\n",
      "Father Name: ....\n",
      "Age: ...\n",
      "Education: ...\n",
      "\n",
      "\n",
      "\tSTUDENT CARD 3\n",
      "Name: M.Hamza zai\n",
      "Father Name: M.Ifraq zai\n",
      "Age: 15\n",
      "Education: B.Com\n",
      "result : 3.5 # also performs calculations\n",
      "\n"
     ]
    }
   ],
   "source": [
    "name : str = \"M.Hamza zai\"\n",
    "father_name : str = \"M.Ifraq zai\"\n",
    "age : int = 15\n",
    "education : str = \"B.Com\"\n",
    "\n",
    "card1 : str = \"\\tSTUDENT CARD 1 \\n\" \\\n",
    "\"Name: \" + name + \"\\n\" \\\n",
    "\"Father Name: \" + father_name + \"\\n\" \\\n",
    "\"Age: \" + str(age) + \"\\n\" \\\n",
    "\"Education: \" + education\n",
    "# it is to complex to use single line string \n",
    "\n",
    "\n",
    "# now to make this card using multi line string\n",
    "card2 : str = \"\"\"\n",
    "\\tSTUDENT CARD 2\n",
    "Name: ...\n",
    "Father Name: ....\n",
    "Age: ...\n",
    "Education: ...\n",
    "\"\"\" \n",
    "# simple but now to put the variable value you need to use f-stirng means use f keyword before string\n",
    "\n",
    "card3 : str = f\"\"\"\n",
    "\\tSTUDENT CARD 3\n",
    "Name: {name}\n",
    "Father Name: {father_name}\n",
    "Age: {age}\n",
    "Education: {education}\n",
    "result : {3 + 1 / 2 } # also performs calculations\n",
    "\"\"\" \n",
    "\n",
    "\n",
    "print(card1)\n",
    "print(card2)\n",
    "print(card3)"
   ]
  },
  {
   "cell_type": "markdown",
   "id": "1a1ef39e",
   "metadata": {},
   "source": [
    "## Now there is another method called jinja in which we used double curly braces"
   ]
  },
  {
   "cell_type": "code",
   "execution_count": null,
   "id": "a43363dd",
   "metadata": {},
   "outputs": [],
   "source": [
    "# jinja style\n",
    "'''\n",
    "name : str = \"\"\" Student Name{{ name }} \"\"\"\n",
    "'''"
   ]
  },
  {
   "cell_type": "markdown",
   "id": "1e28b937",
   "metadata": {},
   "source": [
    "## Different methods of string formatting \n",
    "### 1. f-string (clear above).\n",
    "### 2. old-style formatting (% method ).\n",
    "### 3. and .format() method.Which is very old "
   ]
  },
  {
   "cell_type": "markdown",
   "id": "baaee7a1",
   "metadata": {},
   "source": [
    "### Using old-style formatting method %"
   ]
  },
  {
   "cell_type": "code",
   "execution_count": 4,
   "id": "bbd6be99",
   "metadata": {},
   "outputs": [
    {
     "name": "stdout",
     "output_type": "stream",
     "text": [
      "\n",
      "\tSTUDENT CARD (using old-style formatting method)\n",
      "Name: M.Hamza zai  \n",
      "fname: M.Ifraq zai\n",
      "\n"
     ]
    }
   ],
   "source": [
    "# first using old-style fomatting method using % symbol \n",
    "# taking card example as above\n",
    "\n",
    "name : str = \"M.Hamza zai\"\n",
    "fname : str = \"M.Ifraq zai\"\n",
    "\n",
    "card : str = \"\"\"\n",
    "\\tSTUDENT CARD (using old-style formatting method)\n",
    "Name: %s  \n",
    "fname: %s\n",
    "\"\"\" % (name, fname) # % symbol is used to put values in their places.Sequence wise\n",
    "\n",
    "print(card)\n",
    "\n",
    "# Important Symbols of this method:\n",
    "# %s for string values,\n",
    "# %d for integer values,\n",
    "# %f for float values\n",
    "# and %x for hexadecimal values."
   ]
  },
  {
   "cell_type": "markdown",
   "id": "978c765b",
   "metadata": {},
   "source": [
    "### Using .format() method "
   ]
  },
  {
   "cell_type": "code",
   "execution_count": 13,
   "id": "578ac49b",
   "metadata": {},
   "outputs": [
    {
     "name": "stdout",
     "output_type": "stream",
     "text": [
      "The boy name is Hamza, his marks are \"10\" in Arts\n",
      "Using specific placeholders The boy name is hamza, his age is 15 and his education is B.Com\n",
      "Using specific placeholders The boy name is hamza, his age is 15 and his education is B.Com\n"
     ]
    }
   ],
   "source": [
    "# taking two variables\n",
    "a : str = 'hamza'\n",
    "b : int = 10\n",
    "c : str = 'The boy name is {}, his marks are \"{}\" in Arts' # printing the final message using format method\n",
    "print(c.format(a.capitalize(), b)) \n",
    "# this method uses {} named placeholders to put values in their places.In sequence wise\n",
    "\n",
    "# but you can also explicitly name the placeholders for the specific values \n",
    "name : str = 'hamza'\n",
    "age : int = 15\n",
    "education : str = 'B.Com'\n",
    "\n",
    "final_message : str = 'The boy name is {name}, his age is {age} and his education is {education}' # using format method\n",
    "print('Using specific placeholders', final_message.format(name = name, age = age, education = education))\n",
    "\n",
    "# also we can put the values in specific places by using index numbers \n",
    "final_message : str = 'The boy name is {1}, his age is {0} and his education is {2}' # using format method\n",
    "print('Using specific placeholders', final_message.format(age, name, education))\n"
   ]
  },
  {
   "cell_type": "markdown",
   "id": "8e84ed6f",
   "metadata": {},
   "source": [
    "# Now Exploring Some String Methods or Attributes"
   ]
  }
 ],
 "metadata": {
  "kernelspec": {
   "display_name": "python12",
   "language": "python",
   "name": "python3"
  },
  "language_info": {
   "codemirror_mode": {
    "name": "ipython",
    "version": 3
   },
   "file_extension": ".py",
   "mimetype": "text/x-python",
   "name": "python",
   "nbconvert_exporter": "python",
   "pygments_lexer": "ipython3",
   "version": "3.12.0"
  }
 },
 "nbformat": 4,
 "nbformat_minor": 5
}

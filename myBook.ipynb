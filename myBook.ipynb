{
 "cells": [
  {
   "cell_type": "markdown",
   "id": "074c50c0",
   "metadata": {},
   "source": [
    "# Class 1\n",
    "## *My first python jupyter notebook*"
   ]
  },
  {
   "cell_type": "code",
   "execution_count": null,
   "id": "b5492ea8",
   "metadata": {},
   "outputs": [
    {
     "name": "stdout",
     "output_type": "stream",
     "text": [
      "44\n",
      "<class 'int'>\n",
      "140708442230552\n"
     ]
    }
   ],
   "source": [
    "name:str = 'hamed'\n",
    "name = 44\n",
    "print(name) # printng name variable\n",
    "print(type(name)) # printng type of name variable\n",
    "print(id(name)) # printing the address of name variable in memory"
   ]
  },
  {
   "cell_type": "markdown",
   "id": "f7981f24",
   "metadata": {},
   "source": [
    "# Class 2.\n",
    "## Rules for variable naming and best practice"
   ]
  },
  {
   "cell_type": "code",
   "execution_count": null,
   "id": "c38fced0",
   "metadata": {},
   "outputs": [],
   "source": [
    "name : str = 'hamza' # always make the first letter of variable name small\n",
    "father_name : str = 'ifraq' # only use underscores in variable name and also second letter should be small\n",
    "age : int = 15 # always use spaces between variable name and equal sign\n",
    "# use type annotations (Optional) but more readable"
   ]
  },
  {
   "cell_type": "markdown",
   "id": "44340aa2",
   "metadata": {},
   "source": [
    "# Power of String (str) Data Type "
   ]
  },
  {
   "cell_type": "markdown",
   "id": "0f2cc21f",
   "metadata": {},
   "source": [
    "### *string is most powerfull data type in all programming languages*\n",
    "It can be defined using boundaries:\n",
    "1. single quoted ('string').\n",
    "2. double quoted (\"string\").\n",
    "3. triple single quotes ('''string'''). used for multiline strings.\n",
    "4. triple double quotes (\"\"\"string\"\"\"). used for multiline strings.\n",
    "5. raw string (r'string'). used for raw strings.(it is used to print special characters as it is)"
   ]
  },
  {
   "cell_type": "code",
   "execution_count": 29,
   "id": "e8bf3f4b",
   "metadata": {},
   "outputs": [
    {
     "name": "stdout",
     "output_type": "stream",
     "text": [
      "This is a message\n",
      "This is a message\n",
      "\n",
      "                            This is a long message 1\n",
      "\n",
      "                            This is a long message 2 \n"
     ]
    }
   ],
   "source": [
    "# example of above lesson \n",
    "# single line string\n",
    "single_message : str = \"This is a message\"\n",
    "double_message : str = 'This is a message'\n",
    "\n",
    "''' \n",
    "double_message : str = 'This is a \n",
    "     message ' (error)\n",
    "'''\n",
    "\n",
    "\n",
    "# multi line string\n",
    "singel_triple_message : str = '''\n",
    "                            This is a long message 1'''\n",
    "double_triple_message : str = \"\"\"\n",
    "                            This is a long message 2 \"\"\"\n",
    "\n",
    "print(single_message)\n",
    "print(double_message)\n",
    "print(singel_triple_message)\n",
    "print(double_triple_message)"
   ]
  },
  {
   "cell_type": "markdown",
   "id": "e11d5ce9",
   "metadata": {},
   "source": [
    "### If you want to use special characters in your code *(', \", \\, etc)*"
   ]
  },
  {
   "cell_type": "code",
   "execution_count": null,
   "id": "6d0439aa",
   "metadata": {},
   "outputs": [
    {
     "name": "stdout",
     "output_type": "stream",
     "text": [
      "It's a special message !\n",
      "It is first line     And it is second line\n"
     ]
    }
   ],
   "source": [
    "# If you want to use special characters in your code you just put backward slash '\\' before it \n",
    "# example : str = 'It's' (error)\n",
    "\n",
    "use_special : str = 'It\\'s a special message !' \n",
    "print(use_special)\n",
    "\n",
    "# \"\\\" It is also use to change line but the answer will be in one line\n",
    "message : str = 'It is first line \\\n",
    "    And it is second line'\n",
    "print(message)"
   ]
  },
  {
   "cell_type": "markdown",
   "id": "a03cd0ef",
   "metadata": {},
   "source": [
    "### Make a card using this single string \"\",''"
   ]
  },
  {
   "cell_type": "code",
   "execution_count": 87,
   "metadata": {},
   "outputs": [
    {
     "name": "stdout",
     "output_type": "stream",
     "text": [
      "\tSTUDENT CARD 1 \n",
      "Name: M.Hamza zai\n",
      "Father Name: M.Ifraq zai\n",
      "Age: 15\n",
      "Education: B.Com\n",
      "\n",
      "\tSTUDENT CARD 2\n",
      "Name: ...\n",
      "Father Name: ....\n",
      "Age: ...\n",
      "Education: ...\n",
      "\n",
      "\n",
      "\tSTUDENT CARD 3\n",
      "Name: M.Hamza zai\n",
      "Father Name: M.Ifraq zai\n",
      "Age: 15\n",
      "Education: B.Com\n",
      "result : 3.5 # also performs calculations\n",
      "\n"
     ]
    }
   ],
   "source": [
    "name : str = \"M.Hamza zai\"\n",
    "father_name : str = \"M.Ifraq zai\"\n",
    "age : int = 15\n",
    "education : str = \"B.Com\"\n",
    "\n",
    "card1 : str = \"\\tSTUDENT CARD 1 \\n\" \\\n",
    "\"Name: \" + name + \"\\n\" \\\n",
    "\"Father Name: \" + father_name + \"\\n\" \\\n",
    "\"Age: \" + str(age) + \"\\n\" \\\n",
    "\"Education: \" + education\n",
    "# it is to complex to use single line string \n",
    "\n",
    "\n",
    "# now to make this card using multi line string\n",
    "card2 : str = \"\"\"\n",
    "\\tSTUDENT CARD 2\n",
    "Name: ...\n",
    "Father Name: ....\n",
    "Age: ...\n",
    "Education: ...\n",
    "\"\"\" \n",
    "# simple but now to put the variable value you need to use f-stirng means use f keyword before string\n",
    "\n",
    "card3 : str = f\"\"\"\n",
    "\\tSTUDENT CARD 3\n",
    "Name: {name}\n",
    "Father Name: {father_name}\n",
    "Age: {age}\n",
    "Education: {education}\n",
    "result : {3 + 1 / 2 } # also performs calculations\n",
    "\"\"\" \n",
    "\n",
    "\n",
    "print(card1)\n",
    "print(card2)\n",
    "print(card3)"
   ]
  },
  {
   "cell_type": "markdown",
   "id": "1a1ef39e",
   "metadata": {},
   "source": [
    "## Now there is another method called jinja in which we used double curly braces"
   ]
  },
  {
   "cell_type": "code",
   "execution_count": null,
   "id": "a43363dd",
   "metadata": {},
   "outputs": [],
   "source": [
    "# jinja style\n",
    "'''\n",
    "name : str = \"\"\" Student Name{{ name }} \"\"\"\n",
    "'''"
   ]
  },
  {
   "cell_type": "markdown",
   "id": "1e28b937",
   "metadata": {},
   "source": [
    "## Different methods of string formatting \n",
    "### 1. f-string (clear above).\n",
    "### 2. old-style formatting (% method ).\n",
    "### 3. and .format() method.Which is very old "
   ]
  },
  {
   "cell_type": "markdown",
   "id": "baaee7a1",
   "metadata": {},
   "source": [
    "### Using old-style formatting method %"
   ]
  },
  {
   "cell_type": "code",
   "execution_count": 4,
   "id": "bbd6be99",
   "metadata": {},
   "outputs": [
    {
     "name": "stdout",
     "output_type": "stream",
     "text": [
      "\n",
      "\tSTUDENT CARD (using old-style formatting method)\n",
      "Name: M.Hamza zai  \n",
      "fname: M.Ifraq zai\n",
      "\n"
     ]
    }
   ],
   "source": [
    "# first using old-style fomatting method using % symbol \n",
    "# taking card example as above\n",
    "\n",
    "name : str = \"M.Hamza zai\"\n",
    "fname : str = \"M.Ifraq zai\"\n",
    "\n",
    "card : str = \"\"\"\n",
    "\\tSTUDENT CARD (using old-style formatting method)\n",
    "Name: %s  \n",
    "fname: %s\n",
    "\"\"\" % (name, fname) # % symbol is used to put values in their places.Sequence wise\n",
    "\n",
    "print(card)\n",
    "\n",
    "# Important Symbols of this method:\n",
    "# %s for string values,\n",
    "# %d for integer values,\n",
    "# %f for float values\n",
    "# and %x for hexadecimal values."
   ]
  },
  {
   "cell_type": "markdown",
   "id": "978c765b",
   "metadata": {},
   "source": [
    "### Using .format() method "
   ]
  },
  {
   "cell_type": "code",
   "execution_count": 15,
   "id": "578ac49b",
   "metadata": {},
   "outputs": [
    {
     "name": "stdout",
     "output_type": "stream",
     "text": [
      "The boy name is Hamza, his marks are \"10\" in Arts\n",
      "Using specific placeholders The boy name is hamza, his age is 15 and his education is B.Com\n",
      "Using specific placeholders The boy name is hamza, his age is 15 and his education is B.Com\n"
     ]
    }
   ],
   "source": [
    "# taking two variables\n",
    "a : str = 'hamza'\n",
    "b : int = 10\n",
    "c : str = 'The boy name is {}, his marks are \"{}\" in Arts' # printing the final message using format method\n",
    "print(c.format(a.capitalize(), b)) \n",
    "# this method uses {} named placeholders to put values in their places.In sequence wise\n",
    "\n",
    "# but you can also explicitly name the placeholders for the specific values \n",
    "Name : str = 'hamza'\n",
    "age : int = 15\n",
    "education : str = 'B.Com'\n",
    "\n",
    "final_message : str = 'The boy name is {name}, his age is {age} and his education is {education}' # using format method\n",
    "print('Using specific placeholders', final_message.format(name = Name, age = age, education = education))\n",
    "\n",
    "# also we can put the values in specific places by using index numbers \n",
    "final_message : str = 'The boy name is {1}, his age is {0} and his education is {2}' # using format method\n",
    "print('Using specific placeholders', final_message.format(age, Name, education))\n"
   ]
  },
  {
   "cell_type": "markdown",
   "id": "8e84ed6f",
   "metadata": {},
   "source": [
    "# Now Exploring Some String Methods or Attributes"
   ]
  },
  {
   "cell_type": "code",
   "execution_count": 3,
   "id": "239e7efd",
   "metadata": {},
   "outputs": [
    {
     "data": {
      "text/plain": [
       "'M HAMZA ZAI'"
      ]
     },
     "metadata": {},
     "output_type": "display_data"
    },
    {
     "data": {
      "text/plain": [
       "'m hamza zai'"
      ]
     },
     "metadata": {},
     "output_type": "display_data"
    },
    {
     "data": {
      "text/plain": [
       "'M Hamza Zai'"
      ]
     },
     "metadata": {},
     "output_type": "display_data"
    },
    {
     "data": {
      "text/plain": [
       "'M hamza zai'"
      ]
     },
     "metadata": {},
     "output_type": "display_data"
    },
    {
     "data": {
      "text/plain": [
       "'M Hamza Zai'"
      ]
     },
     "metadata": {},
     "output_type": "display_data"
    }
   ],
   "source": [
    "# here are some useful methods of string in python\n",
    "# first we will discuss about the case methods of string, here they are:\n",
    "# 1. .upper() : it will convert the string to upper case (all characters are capital).\n",
    "# 2. .lower() : it will convert the string to lower case (all characters are small).\n",
    "# 3. .title() : it will convert the string to title case (first letter of each word is capital).\n",
    "# 4. .capitalize() : it will convert the string to capital case (first letter of the string is capital).\n",
    "# 5. .swapcase() : it will convert the string to swap case (all small characters are converted to\n",
    "# capital and all capital characters are converted to small).\n",
    "# 6. .casefold() : it will convert the string to case fold (it is used to compare two strings).\n",
    "\n",
    "name : str = \"m hAMZA zAI\"\n",
    "display(name.upper())\n",
    "display(name.lower())\n",
    "display(name.title())\n",
    "display(name.capitalize())\n",
    "display(name.swapcase())\n"
   ]
  },
  {
   "cell_type": "markdown",
   "id": "6f8cda6a",
   "metadata": {},
   "source": [
    "### **Now Discussing 'Unicode Characters'**\n",
    "### Unicode characters are special hexadecimal representations used to tell\n",
    "### the computer how to print text in different languages (not just English)\n",
    "### and also how to display symbols and emojis.\n",
    "### **Unicode characters are represented using the \\u or \\U escape sequences.**\n",
    "### \\u is used for 4-digit hexadecimal Unicode characters.\n",
    "### \\U is used for 8-digit hexadecimal Unicode characters."
   ]
  },
  {
   "cell_type": "code",
   "execution_count": 19,
   "id": "0f9d9bbb",
   "metadata": {},
   "outputs": [
    {
     "name": "stdout",
     "output_type": "stream",
     "text": [
      "H ✅ ✈ ❌\n",
      "😀\n"
     ]
    }
   ],
   "source": [
    "# example of unicode characters in python \n",
    "uni_4char : str = '\\u0048' # print 'H'\n",
    "print(uni_4char, '\\u2705', '\\u2708', '\\u274C') # print 'H' and two unicode characters\n",
    "\n",
    "uni_8char : str = '\\U0001F600'\n",
    "print(uni_8char) # print an smile face emoji\n"
   ]
  },
  {
   "cell_type": "markdown",
   "id": "02312e0d",
   "metadata": {},
   "source": [
    "## Difference Between `lower()` and `casefold()` in Python\n",
    "\n",
    "In Python, both `lower()` and `casefold()` methods are used to convert strings to lowercase. However, they differ in **functionality**, **Unicode handling**, and **use cases**.\n",
    "\n",
    "---\n",
    "\n",
    "### ✅ `lower()` Method\n",
    "\n",
    "- Converts all **uppercase characters** in a string to **lowercase**.\n",
    "- Designed primarily for **standard ASCII characters** (like A–Z).\n",
    "- Does **not** handle some **special Unicode characters** correctly.\n",
    "- Mostly used for **display or simple formatting**, not for comparison.\n",
    "\n",
    "```python\n",
    "print(\"HELLO\".lower())     # Output: \"hello\"\n",
    "print(\"Straße\".lower())    # Output: \"straße\"\n",
    "```\n",
    "\n",
    "---\n",
    "\n",
    "### ✅ `casefold()` Method\n",
    "\n",
    "- Converts the string to lowercase **more aggressively** than `lower()`.\n",
    "- Specifically designed for **Unicode** and **international case-insensitive matching**.\n",
    "- Handles **language-specific** characters and symbols correctly.\n",
    "- Best used when performing **case-insensitive comparisons**.\n",
    "\n",
    "```python\n",
    "print(\"HELLO\".casefold())     # Output: \"hello\"\n",
    "print(\"Straße\".casefold())    # Output: \"strasse\" ✅ (ß → ss)\n",
    "```\n",
    "\n",
    "---\n",
    "\n",
    "### 🆚 Key Differences Table\n",
    "\n",
    "| Feature                     | `lower()`       | `casefold()`             |\n",
    "| --------------------------- | --------------- | ------------------------ |\n",
    "| Basic ASCII lowercasing     | ✅ Yes          | ✅ Yes                   |\n",
    "| Unicode-aware               | ⚠️ Limited      | ✅ Fully Unicode-aware   |\n",
    "| Language-specific handling  | ❌ No           | ✅ Yes                   |\n",
    "| Converts German `ß` to `ss` | ❌ No           | ✅ Yes                   |\n",
    "| Use for display             | ✅ Recommended  | ❌ Too aggressive        |\n",
    "| Use for comparison          | ❌ Not reliable | ✅ Ideal for comparisons |\n",
    "\n",
    "---\n",
    "\n",
    "### 🧠 When to Use?\n",
    "\n",
    "- Use **`lower()`** when:\n",
    "\n",
    "  - You're converting text for **display** or simple formatting.\n",
    "  - Unicode handling is **not** a concern.\n",
    "\n",
    "- Use **`casefold()`** when:\n",
    "  - You're doing **case-insensitive comparisons**.\n",
    "  - You're working with **Unicode or multilingual data**.\n",
    "\n",
    "---"
   ]
  },
  {
   "cell_type": "markdown",
   "id": "63acc9a1",
   "metadata": {},
   "source": [
    "## **&#x25C6; Now discussing about others string methods in python**\n",
    "---\n",
    "### **First remove white spaces methods**\n",
    "### `1. strip()` \n",
    " - removes white spaces from both sides.\n",
    " - Also takes an argument and remove that thing from string.\n",
    "### `2. lstrip()` \n",
    " - remove white spaces from left side only.\n",
    " -  Also takes an argument and remove that thing from string.\n",
    "### `3. rstrip()` \n",
    " - remove white spaces from right side only.\n",
    " -  Also takes an argument and remove that thing from string."
   ]
  },
  {
   "cell_type": "code",
   "execution_count": 32,
   "id": "e5170a84",
   "metadata": {},
   "outputs": [
    {
     "data": {
      "text/plain": [
       "'Both sides strip'"
      ]
     },
     "metadata": {},
     "output_type": "display_data"
    },
    {
     "data": {
      "text/plain": [
       "'M.Hamza zai'"
      ]
     },
     "metadata": {},
     "output_type": "display_data"
    },
    {
     "data": {
      "text/plain": [
       "'Only left side strip'"
      ]
     },
     "metadata": {},
     "output_type": "display_data"
    },
    {
     "data": {
      "text/plain": [
       "'M.Hamza zai  '"
      ]
     },
     "metadata": {},
     "output_type": "display_data"
    },
    {
     "data": {
      "text/plain": [
       "'Only right side strip'"
      ]
     },
     "metadata": {},
     "output_type": "display_data"
    },
    {
     "data": {
      "text/plain": [
       "'  M.Hamza zai'"
      ]
     },
     "metadata": {},
     "output_type": "display_data"
    }
   ],
   "source": [
    "name : str = '  M.Hamza zai  '\n",
    "\n",
    "display('Both sides strip', name.strip()) # it will remove the spaces from both sides of the string\n",
    "display('Only left side strip', name.lstrip()) # it will remove the spaces from left side of the string\n",
    "display('Only right side strip', name.rstrip()) # it will remove the spaces from left side of the string"
   ]
  },
  {
   "cell_type": "markdown",
   "id": "5903ea51",
   "metadata": {},
   "source": [
    "# **&#x25C6; Now split() method.**   \n",
    "\n",
    "-  `Purpose` : Splits a string into a list based on a delimiter (default is space).\n",
    "\n",
    "# **&#x25C6; Parameters**:\n",
    "\n",
    "-  `Pattern` : The pattern by which you want to split a string i.e. (, ; ' - etc).\n",
    "\n",
    "- `Maxsplit` : How many splits by default is 0 (means all)."
   ]
  },
  {
   "cell_type": "code",
   "execution_count": null,
   "id": "76116622",
   "metadata": {},
   "outputs": [
    {
     "name": "stdout",
     "output_type": "stream",
     "text": [
      "['apple', 'banana,cherry']\n"
     ]
    }
   ],
   "source": [
    "text = \"apple,banana,cherry\"\n",
    "result = text.split(',',1)  \n",
    "print(result) # print ['apple', 'banana,cherry']"
   ]
  },
  {
   "cell_type": "markdown",
   "id": "303360b9",
   "metadata": {},
   "source": [
    "# **&#x25C6; Now join() method.**\n",
    "\n",
    "- `Purpose` : Joins elements of a list into a single string, using a specified separator.\n",
    "\n",
    "# **&#x25C6; Parameters**:\n",
    "- No such parameters just a `string` to join.\n"
   ]
  },
  {
   "cell_type": "code",
   "execution_count": 10,
   "id": "fa8e2bcd",
   "metadata": {},
   "outputs": [
    {
     "name": "stdout",
     "output_type": "stream",
     "text": [
      "apple banana cherry\n"
     ]
    }
   ],
   "source": [
    "items = ['apple', 'banana', 'cherry']\n",
    "result = \" \".join(items)  # 'apple, banana, cherry'\n",
    "print(result)"
   ]
  },
  {
   "cell_type": "markdown",
   "id": "a9449923",
   "metadata": {},
   "source": [
    "# **&#x25C6; replace() method**.\n",
    "\n",
    "- `Purpose` : Replaces occurrences of a substring with another.\n",
    "\n",
    "# **&#x25C6; Parameters**.\n",
    "\n",
    "- `Old value` : The value to replace in a string.\n",
    "\n",
    "- `New value` : The replace value. **(exchange in old value)**\n",
    "\n",
    "- `count` : How many value should replace by default is **-1** means all."
   ]
  },
  {
   "cell_type": "code",
   "execution_count": null,
   "id": "623b1b99",
   "metadata": {},
   "outputs": [
    {
     "name": "stdout",
     "output_type": "stream",
     "text": [
      "I like almond and almond\n"
     ]
    }
   ],
   "source": [
    "text = \"I like apples and apples\"\n",
    "result = text.replace(\"apples\",'almond')  # 'I like oranges'\n",
    "print(result)\n"
   ]
  },
  {
   "cell_type": "markdown",
   "id": "e0059776",
   "metadata": {},
   "source": [
    "# **&#x25C6; find() and rfind() method**.\n",
    "\n",
    "- `Purpose` : Finds the **first (find)** or **last (rfind)** index of a substring. Returns $-1$ if not found.\n",
    "\n",
    "# **&#x25C6; Parameters**.\n",
    "\n",
    "- `Find value` : The value to find in a string.\n",
    "\n",
    "- `Start index` : The index from where to start finding.\n",
    "\n",
    "- `End start` : The index to end the finding.\n",
    "\n",
    "- ### By default it find's from start to end of string."
   ]
  },
  {
   "cell_type": "code",
   "execution_count": null,
   "id": "0e2b3b9a",
   "metadata": {},
   "outputs": [
    {
     "name": "stdout",
     "output_type": "stream",
     "text": [
      "6\n",
      "12\n"
     ]
    }
   ],
   "source": [
    "text = \"hello world world\"\n",
    "index = text.find(\"world\")  # 6\n",
    "print(index)\n",
    "\n",
    "rindex = text.rfind(\"world\",0, 11)  # checks whole string\n",
    "print(rindex)\n",
    "\n"
   ]
  },
  {
   "cell_type": "markdown",
   "id": "72decb2a",
   "metadata": {},
   "source": [
    "# **&#x25C6; startswith() and endswith() method**.\n",
    "\n",
    "- `Purpose` : Checks if a string starts or ends with a specified substring.\n",
    "\n",
    "# **&#x25C6; Parameters**.\n",
    "\n",
    "- `Find value` : The value to find in a string.\n",
    "\n",
    "- `Start index` : The index from where to start finding.\n",
    "\n",
    "- `End start` : The index to end the finding."
   ]
  },
  {
   "cell_type": "code",
   "execution_count": 54,
   "id": "223e657f",
   "metadata": {},
   "outputs": [
    {
     "name": "stdout",
     "output_type": "stream",
     "text": [
      "True\n"
     ]
    },
    {
     "data": {
      "text/plain": [
       "True"
      ]
     },
     "execution_count": 54,
     "metadata": {},
     "output_type": "execute_result"
    }
   ],
   "source": [
    "text = \"hello.py\"\n",
    "\n",
    "result = text.startswith(\"hello\",0) \n",
    "print(result)\n",
    "\n",
    "text.endswith(\".py\")      # True\n"
   ]
  },
  {
   "cell_type": "markdown",
   "id": "e02fa1e8",
   "metadata": {},
   "source": [
    "# **&#x25C6; At last we discuss about :**\n",
    "\n",
    "- `isalpha()` : Checks if the value is aplhabatical.\n",
    "\n",
    "- `isdigit()` : Checks if the value is numbers or digits.\n",
    "\n",
    "- `isalnum()` : Checks if the value is aplhabatical and digits.\n"
   ]
  },
  {
   "cell_type": "code",
   "execution_count": 61,
   "id": "004aee2e",
   "metadata": {},
   "outputs": [
    {
     "name": "stdout",
     "output_type": "stream",
     "text": [
      "True\n",
      "True\n",
      "True\n"
     ]
    }
   ],
   "source": [
    "print(\"abc\".isalpha())\n",
    "\n",
    "print(\"123\".isdigit())\n",
    "\n",
    "print(\"abc123\".isalnum()) \n"
   ]
  }
 ],
 "metadata": {
  "kernelspec": {
   "display_name": "python12",
   "language": "python",
   "name": "python3"
  },
  "language_info": {
   "codemirror_mode": {
    "name": "ipython",
    "version": 3
   },
   "file_extension": ".py",
   "mimetype": "text/x-python",
   "name": "python",
   "nbconvert_exporter": "python",
   "pygments_lexer": "ipython3",
   "version": "3.12.0"
  }
 },
 "nbformat": 4,
 "nbformat_minor": 5
}

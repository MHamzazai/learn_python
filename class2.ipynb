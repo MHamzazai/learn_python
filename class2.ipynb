{
 "cells": [
  {
   "cell_type": "markdown",
   "id": "c1cf76f0",
   "metadata": {},
   "source": [
    "# &#x25C6; **Operators in python**:\n",
    "\n",
    "- Arithmetic operators.\n",
    "\n",
    "- Assignment operators.\n",
    "\n",
    "- Comparison operators.\n",
    "\n",
    "- Bitwise operators.\n",
    "\n",
    "- Logical operators.\n",
    "\n",
    "- Membership operators.\n",
    "\n",
    "- Identity operators.\n"
   ]
  },
  {
   "cell_type": "markdown",
   "id": "891f4d4f",
   "metadata": {},
   "source": [
    "# **Arithmetic Operator**.\n",
    "\n",
    "- {+} addition.\n",
    "\n",
    "- {-} subtraction.\n",
    "\n",
    "- {\\*} multiplication.\n",
    "\n",
    "- {/} division.\n",
    "\n",
    "- {%} modulus.\n",
    "\n",
    "- {\\*\\*} exponentiation, means power.\n",
    "\n",
    "- {//} floor division.\n"
   ]
  },
  {
   "cell_type": "code",
   "execution_count": null,
   "id": "3b6be6ad",
   "metadata": {},
   "outputs": [
    {
     "name": "stdout",
     "output_type": "stream",
     "text": [
      " +  5\n",
      " -  1\n",
      " *  6\n",
      " /  1.5\n",
      " %  1\n",
      " **  9\n",
      " //  1\n"
     ]
    }
   ],
   "source": [
    "a: int = 3\n",
    "b: int = 2\n",
    "\n",
    "print(\" + \", a + b)\n",
    "print(\" - \", a - b)\n",
    "print(\" * \", a * b)\n",
    "print(\" / \", a / b)\n",
    "print(\" % \", a % b)\n",
    "print(\" ** \", a**b)\n",
    "print(\" // \", a // b)  # divide and round down to the nearest integer"
   ]
  },
  {
   "cell_type": "markdown",
   "id": "cd3bbaba",
   "metadata": {},
   "source": [
    "# **Assignment operator**\n",
    "\n",
    "- {=} assign.\n",
    "\n",
    "- {+=} add and assign.\n",
    "\n",
    "- {-=} subtract and assign.\n",
    "\n",
    "- {\\*=} multiply and assign.\n",
    "\n",
    "- {/=} divide and assign.\n",
    "\n",
    "- {%=} modulus and assign.\n",
    "\n",
    "- {\\*\\*=} exponentiation and assign.\n",
    "\n",
    "- {//=} floor division and assign.\n"
   ]
  },
  {
   "cell_type": "code",
   "execution_count": null,
   "id": "7ad0ca7a",
   "metadata": {},
   "outputs": [
    {
     "name": "stdout",
     "output_type": "stream",
     "text": [
      "a = b 2\n",
      "a += b 4\n",
      "a -= b 2\n",
      "a *= b 4\n",
      "a /= b 1.0\n",
      "a %= b 1.0\n",
      "a **= b 4\n",
      "a //= b 2\n"
     ]
    }
   ],
   "source": [
    "a: int = 3\n",
    "b: int = 2\n",
    "\n",
    "a = b  # assing b value to a\n",
    "print(\"a = b\", a)\n",
    "# a = 2\n",
    "a += b\n",
    "print(\"a += b\", a)\n",
    "# a = 4\n",
    "\n",
    "a -= b\n",
    "print(\"a -= b\", a)\n",
    "# a = 2\n",
    "\n",
    "a *= b\n",
    "print(\"a *= b\", a)\n",
    "# a = 4\n",
    "\n",
    "a /= b\n",
    "print(\"a /= b\", a)\n",
    "# a = 2.0\n",
    "\n",
    "a %= b\n",
    "print(\"a %= b\", a)\n",
    "# a = 0.0\n",
    "\n",
    "a = 2  # assign 2 to a\n",
    "a **= b\n",
    "print(\"a **= b\", a)\n",
    "# a = 0.0\n",
    "\n",
    "a //= b\n",
    "print(\"a //= b\", a)"
   ]
  },
  {
   "cell_type": "markdown",
   "id": "c7f36451",
   "metadata": {},
   "source": [
    "# **Comparison operator**\n",
    "\n",
    "- {==} equal to.\n",
    "\n",
    "- {!=} not equal to.\n",
    "\n",
    "- {>} greater than.\n",
    "\n",
    "- {<} less than.\n",
    "\n",
    "- {>=} greater than equal to.\n",
    "\n",
    "- {<=} less than equal to.\n"
   ]
  },
  {
   "cell_type": "code",
   "execution_count": null,
   "id": "cf268e19",
   "metadata": {},
   "outputs": [
    {
     "name": "stdout",
     "output_type": "stream",
     "text": [
      " ==  False\n",
      " !=  True\n",
      " >  True\n",
      " <  False\n",
      " >=  True\n",
      " <=  False\n"
     ]
    }
   ],
   "source": [
    "a: int = 3\n",
    "b: int = 2\n",
    "\n",
    "print(\" == \", a == b)\n",
    "print(\" != \", a != b)\n",
    "print(\" > \", a > b)\n",
    "print(\" < \", a < b)\n",
    "print(\" >= \", a >= b)  # menas a > b or a = b\n",
    "print(\" <= \", a <= b)  # means a < b or a = b"
   ]
  },
  {
   "cell_type": "markdown",
   "id": "8393980f",
   "metadata": {},
   "source": [
    "# **Logical operator**\n",
    "\n",
    "- {and} logical AND.\n",
    "\n",
    "- {or} logical OR.\n",
    "\n",
    "- {not} logical NOT.\n"
   ]
  },
  {
   "cell_type": "code",
   "execution_count": null,
   "id": "142bca39",
   "metadata": {},
   "outputs": [
    {
     "name": "stdout",
     "output_type": "stream",
     "text": [
      "False\n",
      "True\n",
      "True\n"
     ]
    }
   ],
   "source": [
    "a: int = 4\n",
    "b: int = 44\n",
    "\n",
    "print(a == b and a < b)  # and means all conditions must be true\n",
    "print(a == b or a < b)  # or means at least one condition must be true\n",
    "print(not a == b)  # not means the opposite of the condition"
   ]
  },
  {
   "cell_type": "markdown",
   "id": "cdd94b16",
   "metadata": {},
   "source": [
    "# **Membership operator.**\n",
    "\n",
    "- {in} value in sequence.\n",
    "\n",
    "- {not in} value not in sequence.\n"
   ]
  },
  {
   "cell_type": "code",
   "execution_count": null,
   "id": "19c69849",
   "metadata": {},
   "outputs": [
    {
     "name": "stdout",
     "output_type": "stream",
     "text": [
      "True\n",
      "True\n"
     ]
    }
   ],
   "source": [
    "name: str = \"hamza\"\n",
    "print(\"a\" in name)\n",
    "print(\"H\" not in name)  # case sensitive"
   ]
  },
  {
   "cell_type": "markdown",
   "id": "b505c312",
   "metadata": {},
   "source": [
    "# **Identity operator**.\n",
    "\n",
    "- {is} same memory location.\n",
    "\n",
    "- {is not} not same memory location.\n"
   ]
  },
  {
   "cell_type": "code",
   "execution_count": null,
   "id": "5db07ae4",
   "metadata": {},
   "outputs": [
    {
     "name": "stdout",
     "output_type": "stream",
     "text": [
      "True\n",
      "True\n",
      "True\n",
      "False\n"
     ]
    }
   ],
   "source": [
    "a = [1, 2, 3]\n",
    "b = a\n",
    "c = [1, 2, 3]\n",
    "\n",
    "print(a == b)  # True, because values are the same\n",
    "print(a is b)  # True, because both refer to the same object\n",
    "\n",
    "print(a == c)  # True, because values are the same\n",
    "print(a is c)  # False, because c is a different object in memory"
   ]
  },
  {
   "cell_type": "markdown",
   "id": "a2e45dc2",
   "metadata": {},
   "source": [
    "# **Bitwise operators**.\n",
    "\n",
    "- {&} AND.\n",
    "\n",
    "- {`}\n",
    "\n",
    "- {^} XOR.\n",
    "\n",
    "- {~} NOT (one's complement).\n",
    "\n",
    "- {<<} left shift.\n",
    "\n",
    "- {>>} right shift.\n",
    "\n",
    "### They are not commonly used, they are used to manipulate bits.\n"
   ]
  },
  {
   "cell_type": "markdown",
   "id": "87991efc",
   "metadata": {},
   "source": [
    "# **Loops in python**\n",
    "\n",
    "---\n",
    "\n",
    "1. `for` **loop**.\n",
    "\n",
    "- A for loop in Python is used to **iterate over a sequence** (like a list, tuple, string, set, dictionary, or range) and execute a block of code once for each item in that sequence.It is used when we know at the start of loop, how many times the loop will iterate.\n",
    "\n",
    "# **Syntax** :\n",
    "\n",
    "### `for` **variable** in **iterable**:\n",
    "\n",
    "### indentation - block of code\n",
    "\n",
    "- `variable` : A name that represents the current item in the loop.\n",
    "\n",
    "- `iterable`: A sequence of items (like a list or string) that Python can iterate over.\n"
   ]
  },
  {
   "cell_type": "code",
   "execution_count": null,
   "id": "e9383b60",
   "metadata": {},
   "outputs": [
    {
     "name": "stdout",
     "output_type": "stream",
     "text": [
      "apple\n",
      "banana\n",
      "cherry\n",
      "\n",
      "\n",
      "cricket\n",
      "football\n",
      "marathon\n",
      "\n",
      "\n",
      "h\n",
      "a\n",
      "m\n",
      "z\n",
      "a\n",
      "\n",
      "\n",
      "0\n",
      "1\n",
      "2\n",
      "3\n",
      "4\n",
      "\n",
      "\n",
      "5\n",
      "7\n",
      "9\n"
     ]
    }
   ],
   "source": [
    "# for loop throught a list and tuple\n",
    "fruits = [\"apple\", \"banana\", \"cherry\"]\n",
    "sports = (\"cricket\", \"football\", \"marathon\")\n",
    "\n",
    "for fruit in fruits:\n",
    "    print(fruit)\n",
    "\n",
    "print(\"\\n\")\n",
    "\n",
    "for sport in sports:\n",
    "    print(sport)\n",
    "\n",
    "print(\"\\n\")\n",
    "\n",
    "# for loop throught a string\n",
    "for letter in \"hamza\":\n",
    "    print(letter)\n",
    "\n",
    "print(\"\\n\")\n",
    "\n",
    "# for loop in a range method\n",
    "# range method is used to generate a sequence of numbers.\n",
    "# parameters range(start, stop, step or increment)\n",
    "# range(n) means start from 0 to n-1\n",
    "for i in range(5):  # 0 to 4\n",
    "    print(i)\n",
    "\n",
    "print(\"\\n\")\n",
    "\n",
    "for i in range(5, 11, 2):  # 5 to 9 with step 2\n",
    "    print(i)"
   ]
  },
  {
   "cell_type": "markdown",
   "id": "6711251e",
   "metadata": {},
   "source": [
    "# **break, continue and else statements with loop**\n",
    "\n",
    "- ### `break` :\n",
    "\n",
    "  - Immediately stops the loop, even if the condition is still true or there are more items to process.\n",
    "\n",
    "- ### `continue` :\n",
    "\n",
    "  - Skips the current iteration and moves to the next one.\n",
    "\n",
    "- ### `else` :\n",
    "  - The **else** block runs only if the loop ends normally (i.e., not stopped by break)."
   ]
  },
  {
   "cell_type": "code",
   "execution_count": 34,
   "id": "e02c2f87",
   "metadata": {},
   "outputs": [
    {
     "name": "stdout",
     "output_type": "stream",
     "text": [
      "1\n",
      "2\n",
      "\n",
      "\n",
      "1\n",
      "2\n",
      "4\n",
      "5\n",
      "\n",
      "\n",
      "1\n",
      "2\n",
      "3\n",
      "\n",
      "\n",
      "1\n",
      "2\n",
      "3\n",
      "4\n",
      "5\n",
      "Loop finished without break\n"
     ]
    }
   ],
   "source": [
    "# break statement\n",
    "\n",
    "for number in range(1, 6):\n",
    "    if number == 3:\n",
    "        break  # break the loop when number is 3\n",
    "    print(number)  # print 1 and 2 then stop\n",
    "\n",
    "print(\"\\n\")\n",
    "\n",
    "# continue statement\n",
    "for number in range(1, 6):\n",
    "    if number == 3:\n",
    "        continue  # skips the to print 3\n",
    "    print(number)\n",
    "\n",
    "print(\"\\n\")\n",
    "\n",
    "# else statement\n",
    "for number in range(1, 6):\n",
    "    print(number)\n",
    "    if number == 3:\n",
    "        break\n",
    "else:\n",
    "    print(\"Loop finished without break\")\n",
    "\n",
    "print('\\n')\n",
    "\n",
    "for number in range(1, 6):\n",
    "    print(number)\n",
    "    if number == 10:\n",
    "        break\n",
    "else:\n",
    "    print(\"Loop finished without break\")\n"
   ]
  },
  {
   "cell_type": "markdown",
   "id": "444012df",
   "metadata": {},
   "source": [
    "## 2. `while` **loop**.\n",
    "- A while loop runs a block of code as long as a specified condition is True. It’s useful when you don’t know in advance how many times you need to loop.\n",
    "## **syntax**:\n",
    "### `while` condition\n",
    "indentation - code\n",
    "- `condition`: A boolean expression (True or False).\n",
    "\n",
    "- The loop runs as long as the condition is true."
   ]
  },
  {
   "cell_type": "code",
   "execution_count": 49,
   "id": "0b38018e",
   "metadata": {},
   "outputs": [
    {
     "name": "stdout",
     "output_type": "stream",
     "text": [
      "1\n",
      "2\n",
      "3\n",
      "4\n",
      "5\n",
      "\n",
      "\n",
      "1\n",
      "2\n",
      "3\n",
      "4\n",
      "5\n",
      "Loop finished\n"
     ]
    }
   ],
   "source": [
    "# while loop example\n",
    "count = 1\n",
    "while count <= 5:\n",
    "    print(count)\n",
    "    count += 1\n",
    "\n",
    "print(\"\\n\")\n",
    "\n",
    "# else statement works some different in while loop\n",
    "i = 1\n",
    "while i <= 5:\n",
    "    print(i)\n",
    "    i += 1\n",
    "    # if i == 4:\n",
    "    #     break # else don't run when break triggers\n",
    "else:\n",
    "    print(\"Loop finished\") # only runs when loop ended successfully"
   ]
  },
  {
   "cell_type": "markdown",
   "id": "2f14d6f9",
   "metadata": {},
   "source": [
    "# &#x25C6; **Tuple**\n",
    "A tuple is an ordered, immutable collection of elements in Python. That means:\n",
    "- The order of items is maintained.\n",
    "\n",
    "- The items cannot be changed (no add, remove, or modify once created).\n",
    "\n",
    "- Tuples can contain any data type: strings, numbers, lists, even other tuples.\n",
    "\n",
    "- A tuple is like a box where you can store some items (like numbers, words, etc.) — but once you put them in, you can’t change them."
   ]
  },
  {
   "cell_type": "code",
   "execution_count": null,
   "id": "0801da89",
   "metadata": {},
   "outputs": [
    {
     "name": "stdout",
     "output_type": "stream",
     "text": [
      "<class 'tuple'>\n",
      "(1, 2, 'hamza', 4)\n",
      "\n",
      "\n",
      "<class 'tuple'>\n",
      "1\n",
      "\n",
      "\n",
      "<class 'int'>\n",
      "3\n",
      "\n",
      "\n",
      "(1, 2, 22.4)\n",
      "<class 'tuple'>\n",
      "\n",
      "\n",
      "(1, 2, 4, 4)\n",
      "<class 'tuple'>\n"
     ]
    }
   ],
   "source": [
    "# tuple is define using paranthesis ()\n",
    "my_tuple = (1, 2, 'hamza', 4)\n",
    "print(type(my_tuple))\n",
    "print(my_tuple)\n",
    "\n",
    "print('\\n')\n",
    "\n",
    "# tuple is also defined without paranthesis (works in simple cases) \n",
    "my_tuple1 = 1, 2, 3, 'hamza'\n",
    "print(type(my_tuple1))\n",
    "print(my_tuple1[0]) # access items through index\n",
    "\n",
    "print('\\n')\n",
    "\n",
    "# if you define like this \n",
    "not_tuple = (3) # integer not a tuple\n",
    "print(type(not_tuple))\n",
    "print(not_tuple)\n",
    "\n",
    "print('\\n')\n",
    "\n",
    "# we can't change tuple or can't modify it \n",
    "# my_tuple[0] = 10   type error\n",
    "\n",
    "# tuple with type hinting\n",
    "\n",
    "from typing import Tuple\n",
    "marks: Tuple[int, int, float] = (1, 2, 22.4)\n",
    "print(marks)\n",
    "print(type(marks))\n",
    "\n",
    "print('\\n')\n",
    "\n",
    "# tuple with infinite lenght but same datatype using (...) ellipsis\n",
    "score: Tuple[int, ...] = (1, 2, 4, 4)\n",
    "print(score)\n",
    "print(type(score))"
   ]
  },
  {
   "cell_type": "markdown",
   "id": "29c18cd7",
   "metadata": {},
   "source": [
    "# **set()**\n",
    "### A set is an unordered, unindexed collection of unique items. That means:\n",
    "- No duplicate values.\n",
    "\n",
    "- You cannot access items by index.\n",
    "\n",
    "- It's mutable (you can add/remove items).\n",
    "\n",
    "- It only saves unique items in it."
   ]
  },
  {
   "cell_type": "code",
   "execution_count": 15,
   "id": "31029d20",
   "metadata": {},
   "outputs": [
    {
     "name": "stdout",
     "output_type": "stream",
     "text": [
      "<class 'set'>\n",
      "{1, 2, 3, 4}\n",
      "\n",
      "\n",
      "<class 'set'>\n",
      "{1, 2, 3, 4, 5}\n",
      "<class 'set'>\n",
      "{1, 2, 3, 4}\n"
     ]
    }
   ],
   "source": [
    "# creating a set\n",
    "my_set = {1, 2, 3, 4}\n",
    "print(type(my_set))  # Output: <class 'set'>\n",
    "print(my_set)  # Output: {1, 2, 3, 4}\n",
    "\n",
    "print(\"\\n\")\n",
    "\n",
    "score = {1, 2, 3, 4, 2, 5}\n",
    "nums = set(score)  # removes the duplicate value '2'\n",
    "print(type(nums))\n",
    "print(nums)\n",
    "\n",
    "# using type hinting\n",
    "from typing import Set\n",
    "\n",
    "my_set: Set[int] = {1, 2, 3, 4}\n",
    "print(type(my_set))  # Output: <class 'set'>\n",
    "print(my_set)  # Output: {1, 2, 3, 4}"
   ]
  },
  {
   "cell_type": "markdown",
   "id": "af645e2a",
   "metadata": {},
   "source": [
    "# **ferozenset()**\n",
    "### A frozenset is like a set, but immutable:\n",
    "- You cannot add or remove items.\n",
    "\n",
    "- It is read-only once created.\n",
    "\n",
    "- It's hashable, so it can be used as a dictionary key or stored in another set.\n"
   ]
  },
  {
   "cell_type": "code",
   "execution_count": null,
   "id": "2cb763b0",
   "metadata": {},
   "outputs": [
    {
     "name": "stdout",
     "output_type": "stream",
     "text": [
      "frozenset({1, 2, 3})\n",
      "<class 'frozenset'>\n",
      "frozenset({'b', 'a', 'c'})\n",
      "<class 'frozenset'>\n"
     ]
    }
   ],
   "source": [
    "fs = frozenset([1, 2, 3])\n",
    "print(fs)  # Output: frozenset({1, 2, 3})\n",
    "print(type(fs))  # Output: <class 'frozenset'>\n",
    "# fs[0] = 10 error: 'frozenset' object does not support item assignment\n",
    "\n",
    "# using type hinting \n",
    "from typing import FrozenSet\n",
    "\n",
    "keys : FrozenSet[str] = frozenset(['a', 'b', 'c'])\n",
    "print(keys) \n",
    "print(type(keys))"
   ]
  },
  {
   "cell_type": "markdown",
   "id": "744bc368",
   "metadata": {},
   "source": [
    "# **list (array)**\n",
    "- A list is defined using square brackets [], and items are separated by commas.\n",
    "\n",
    "- It contains items of same datatype.\n",
    "\n",
    "- It often get nested."
   ]
  },
  {
   "cell_type": "code",
   "execution_count": null,
   "id": "00c4f9a7",
   "metadata": {},
   "outputs": [
    {
     "name": "stdout",
     "output_type": "stream",
     "text": [
      "<class 'list'>\n",
      "['apple', 'banana', 'cherry']\n",
      "cherry\n",
      "['apple', 'banana']\n",
      "[0, 1, 4, 9, 16]\n",
      "1\n",
      "<class 'list'>\n",
      "[1, 2, 3, 4]\n"
     ]
    }
   ],
   "source": [
    "# creating a list\n",
    "\n",
    "fruits = ['apple', 'banana', 'cherry']\n",
    "print(type(fruits)) \n",
    "print(fruits) \n",
    "print(fruits[-1]) # print the last element of list, and so on (-2 , -3, ...)\n",
    "print(fruits[0:2]) # creates a new list with the elements from index 1 to 2 (not including 2)\n",
    "\n",
    "squares = [x**2 for x in range(5)] # creates a list of squares from 0 to 4 \n",
    "print(squares)  # Output: [0, 1, 4, 9, 16]\n",
    "\n",
    "# create nestes list (list inside list)\n",
    "matrix = [[1, 2], [3, 4]]\n",
    "print(matrix[0][0])  # find index 0 of index 0 of the list and then print it.   \n",
    "\n",
    "# list with type hinting \n",
    "from typing import List\n",
    "my_list: List[int] = [1, 2, 3, 4]\n",
    "print(type(my_list))  # Output: <class 'list'>\n",
    "print(my_list)  # Output: [1, 2, 3, 4]"
   ]
  },
  {
   "cell_type": "markdown",
   "id": "faca8c46",
   "metadata": {},
   "source": [
    "# **Dictionary (object)**.\n",
    "\n",
    "A dictionary in Python is a built-in data type that stores key-value pairs. It's like a real-life dictionary where you look up a word (key) to get its definition (value). Dictionaries are:\n",
    "\n",
    "- Unordered (before Python 3.7) and insertion-ordered (since Python 3.7)\n",
    "\n",
    "- Mutable (can be changed)\n",
    "\n",
    "- Indexed by keys, not by numbers\n",
    "\n",
    "- Keys must be unique and immutable (strings, numbers, tuples), but values can be anything\n",
    "\n",
    "### **Unordered** mean:\n",
    "\n",
    "`before 3.7`\n",
    "- my_dict = {\"a\": 1, \"b\": 2, \"c\": 3}\n",
    "- print(my_dict)\n",
    "\n",
    "Output: {'b': 2, 'a': 1, 'c': 3} ← do not same order as inserted\n",
    "\n",
    "### **Insertion-Order** mean:\n",
    "\n",
    "`after 3.7`\n",
    "- my_dict = {\"a\": 1, \"b\": 2, \"c\": 3}\n",
    "- print(my_dict)\n",
    "\n",
    "Output: {'a': 1, 'b': 2, 'c': 3} ← same order as inserted\n"
   ]
  },
  {
   "cell_type": "code",
   "execution_count": 20,
   "id": "6304b707",
   "metadata": {},
   "outputs": [
    {
     "name": "stdout",
     "output_type": "stream",
     "text": [
      "<class 'dict'>\n",
      "hamza\n",
      "hamza\n",
      "\n",
      "\n",
      "\"name\": \"hamza\".\n",
      "dict_items([('name', 'hamza'), ('father_name', 'ifraq'), ('onsite', True)])\n",
      "\"father_name\": \"ifraq\".\n",
      "dict_items([('name', 'hamza'), ('father_name', 'ifraq'), ('onsite', True)])\n",
      "\"onsite\": \"True\".\n",
      "dict_items([('name', 'hamza'), ('father_name', 'ifraq'), ('onsite', True)])\n",
      "\n",
      "\n",
      "Remove onsite property: {'name': 'hamza', 'father_name': 'ifraq'}\n",
      "\n",
      "\n",
      "Add onsite property: {'name': 'hamza', 'father_name': 'ifraq', 'onsite': True, 'education': 'Nine'}\n",
      "\n",
      "\n",
      "Empty dictionary : {}\n"
     ]
    }
   ],
   "source": [
    "# example of dictionary\n",
    "student = {\n",
    "    \"name\": \"hamza\",\n",
    "    \"father_name\": \"ifraq\",\n",
    "    \"onsite\": True,\n",
    "}\n",
    "print(type(student))  # Output: <class 'dict'>\n",
    "# print(student.name) # error: 'dict' object has no attribute 'name'\n",
    "print(student[\"name\"])  # Output: hamza\n",
    "print(student.get(\"name\"))  # Output:\n",
    "\n",
    "print(\"\\n\")\n",
    "\n",
    "# loop through the object keys\n",
    "for key in student:\n",
    "    key_value = student[key]\n",
    "    print(f'\"{key}\": \"{key_value}\".')  # output key with value\n",
    "    print(student.items())  # function which prints the key and value of the dictionary\n",
    "\n",
    "print(\"\\n\")\n",
    "\n",
    "student.pop(\"onsite\", \"None\")  # remove the key and value from the dictionary\n",
    "print(\"Remove onsite property:\", student)\n",
    "\n",
    "print(\"\\n\")\n",
    "dict = {\"onsite\": True, \"education\": \"Nine\"}\n",
    "student.update(dict)  # add a new key and value to the dictionary\n",
    "print(\"Add onsite property:\", student)\n",
    "\n",
    "print(\"\\n\")\n",
    "\n",
    "student.clear()  # function to clear the whole dictionary\n",
    "\n",
    "print(\"Empty dictionary :\", student)"
   ]
  },
  {
   "cell_type": "markdown",
   "id": "e82fe9f6",
   "metadata": {},
   "source": [
    "# &#x25C6; **Comprehensions**.\n",
    "- The word **comprehension** means “understanding something completely.”\n",
    "\n",
    "- In Python, **comprehension** means **a short and easy way to create new data** (like a list, dictionary, or set) from existing data.\n",
    "\n",
    "- Instead of writing a long loop, you write a short, clean one-liner.\n",
    "## first **list comprehension**.\n",
    "### **Parts of List comprehension**.\n",
    "- `expression` : What you want to do with each item (e.g., square it, multiply, etc.)\n",
    "\n",
    "-  `for item in iterable`: Looping through a sequence (like a list or range).\n",
    "\n",
    "-  `if condition` : (Optional) Only include items that match a condition (like a filter)\n",
    "\n",
    "- `square brackets []` : For list comprehension [] are used."
   ]
  },
  {
   "cell_type": "code",
   "execution_count": 4,
   "id": "6eec5689",
   "metadata": {},
   "outputs": [
    {
     "name": "stdout",
     "output_type": "stream",
     "text": [
      "List of first 10 Even Nnumber [0, 2, 4, 6, 8, 10, 12, 14, 16, 18]\n",
      "\n",
      " List of first 10 Even Nnumber [0, 2, 4, 6, 8, 10, 12, 14, 16, 18]\n"
     ]
    }
   ],
   "source": [
    "# like if we want to create a list of 10 even numbers (without comperhension)\n",
    "even_numbers1 = []\n",
    "\n",
    "for num in range(19):\n",
    "    if num % 2 == 0:\n",
    "        even_numbers1.append(num)\n",
    "\n",
    "print(\"List of first 10 Even Nnumber\", even_numbers1)\n",
    "\n",
    "# the above method is not efficient, we can use list comprehension to do the same thing in one line\n",
    "even_numbers2 = [\n",
    "     num for num in range(19) if num % 2 == 0\n",
    "]  # this is called list comprehension\n",
    "\n",
    "print(\"\\n List of first 10 Even Nnumber\", even_numbers2)"
   ]
  },
  {
   "cell_type": "markdown",
   "id": "44640d63",
   "metadata": {},
   "source": [
    "# **Dcitionary comprehension**\n",
    "\n",
    "### Parts of **Dictionary comprehension**.\n",
    "- `key_expression` : What you want to use as the key in the dictionary.\n",
    "\n",
    "- `value_expression` : What you want as the value for each key.\n",
    "\n",
    "- `for item in iterable` : Loop through a sequence (like a list or range).\n",
    "\n",
    "- `if condition` : \t(Optional) Add to dictionary only if this is True.\n",
    "\n",
    "- `curly braces` :  In dictionary comprehension {} are used."
   ]
  },
  {
   "cell_type": "code",
   "execution_count": 8,
   "id": "40cb727e",
   "metadata": {},
   "outputs": [
    {
     "name": "stdout",
     "output_type": "stream",
     "text": [
      "Object of numbers : {1: 1, 2: 4, 3: 9, 4: 16, 5: 25}\n",
      "object of odd numbers : {1: 1, 3: 9, 5: 25}\n"
     ]
    }
   ],
   "source": [
    "square_dict1 = {x: x**2 for x in range(1, 6)}\n",
    "print(\"Object of numbers :\", square_dict1)  # {1: 1, 2: 4, 3: 9, 4: 16, 5: 25}\n",
    "\n",
    "square_dict2 = {x: x**2 for x in range(1, 6) if x % 2 != 0}  # only odd numbers\n",
    "print(\"object of odd numbers :\", square_dict2)"
   ]
  },
  {
   "cell_type": "markdown",
   "id": "944f92e2",
   "metadata": {},
   "source": [
    "# **Set comprehension**.\n",
    "- A **set comprehension** lets you create a new `set` from an iterable using a single line of code.\n",
    "\n",
    "- A `set` is a collection that contains only unique values (no duplicates).\n",
    "\n",
    "### Parts of **set comprehension**.\n",
    "- `expression` : The value to add in the set.\n",
    "\n",
    "- `for item in iterable` : Loop through a list, range, etc.\n",
    "\n",
    "- `if condition` : (Optional) Filter items before adding.\n",
    "\n",
    "- `curly braces` :  In dictionary comprehension {} are used."
   ]
  },
  {
   "cell_type": "code",
   "execution_count": 10,
   "id": "1766c47f",
   "metadata": {},
   "outputs": [
    {
     "name": "stdout",
     "output_type": "stream",
     "text": [
      "{1, 4, 9, 16, 25}\n",
      "{'b', 'n', 'a'}\n",
      "{'b', 'n', 'a'}\n"
     ]
    }
   ],
   "source": [
    "squares_set = {x**2 for x in range(1, 6)}\n",
    "print(squares_set)  # Output: {1, 4, 9, 16, 25}\n",
    "\n",
    "# without using set comprehension\n",
    "unique_letters = set()\n",
    "for letter in \"banana\":\n",
    "    unique_letters.add(letter)\n",
    "print(unique_letters)  # Output: {'b', 'a', 'n'}\n",
    "\n",
    "word = \"banana\"\n",
    "unique_letters = {letter for letter in word}\n",
    "print(unique_letters)  # Output: {'b', 'a', 'n'}\n",
    "\n"
   ]
  },
  {
   "cell_type": "markdown",
   "id": "1b2cf1e3",
   "metadata": {},
   "source": [
    "# **Generator comprehension**.\n",
    "- A **generator expression** is like a list comprehension, but it doesn’t create the whole list in memory.\n",
    "Instead, **it yields items one at a time**, which makes it **more memory-efficient**.\n",
    "\n",
    "- It’s great for large datasets or streams of data.\n",
    "## What is **generator function**:\n",
    "- A generator object (created by a generator expression or a function using yield) does not store all values.\n",
    "\n",
    "- It remembers how to compute the next value, and gives you one at a time on request (using next() or a loop).\n",
    "\n",
    "## Working of **generator function**:\n",
    "\"The generator function does not run completely, it only runs for the given value and then return the value.\"\n",
    "\n",
    "- When you call a generator function, it doesn't run the whole function.\n",
    "\n",
    "- It starts running until it hits **yield** and then it → returns that value.\n",
    "\n",
    "- You can print the value of generator function by using `next()` function\n",
    "\n",
    "- Then pauses and waits until you ask for the **next value**.\n",
    "\n",
    "- It continues from where it left off — not from the beginning.\n",
    "\n",
    "- On each next(), it resumes from where it paused.\n",
    "\n",
    "- When no **yield** is left, it raises **StopIteration error**.\n",
    "\n",
    "# **Parts of generator comprehension**.\n",
    "- `expression` : What you want to generate.\n",
    "\n",
    "- `for item in iterable` : Loop through a list, range, etc.\n",
    "\n",
    "- `if condition` : (Optional) Filter items before adding.\n",
    "\n",
    "- Note: It uses **paranthesis()** instead of square brackets [].\n",
    "\n",
    "### `iter()` function.\n",
    "- iter() takes any iterable (like a list, string, tuple, etc.) and returns an iterator object, which:\n",
    "\n",
    "- Can be used with the next() function.\n",
    "\n",
    "- Produces values one at a time.\n",
    "\n",
    "- Raises StopIteration when no values are left.\n",
    "\n"
   ]
  },
  {
   "cell_type": "code",
   "execution_count": null,
   "id": "e26c6f6d",
   "metadata": {},
   "outputs": [
    {
     "name": "stdout",
     "output_type": "stream",
     "text": [
      "<generator object <genexpr> at 0x000001CC20A82190>\n",
      "Cubes of 5 numbers: [1, 8, 27, 64, 125]\n",
      "\n",
      "\n",
      "0 2 4 6 8 \n",
      "\n",
      "0\n",
      "Not even number: 1\n",
      "2\n",
      "Not even number: 3\n",
      "4\n",
      "Not even number: 5\n",
      "6\n",
      "Not even number: 7\n",
      "8\n",
      "Not even number: 9\n",
      "10\n",
      "All even numbers are printed.\n",
      "no value\n",
      "apple\n",
      "banana\n",
      "cherry\n",
      "None\n"
     ]
    }
   ],
   "source": [
    "gen = (x**3 for x in range(1, 6))\n",
    "print(gen)  # Output: <generator object ...>\n",
    "print(\"Cubes of 5 numbers:\", list(gen))  # Output: [1, 4, 9, 16, 25]\n",
    "\n",
    "print(\"\\n\")\n",
    "\n",
    "even_gen = (x for x in range(10) if x % 2 == 0)\n",
    "for num in even_gen:\n",
    "    print(num, end=\" \")  # Output: 0 2 4 6 8\n",
    "\n",
    "print(\"\\n\")\n",
    "\n",
    "\n",
    "# without using generator expression\n",
    "def even_generator(n: int):\n",
    "    for x in range(n):\n",
    "        if x % 2 == 0:\n",
    "            yield x\n",
    "        else:\n",
    "            print(\"Not even number:\", x)\n",
    "    else:\n",
    "        print(\"All even numbers are printed.\")        \n",
    "\n",
    "\n",
    "nums = even_generator(11)\n",
    "print(next(nums, \"\"))\n",
    "print(next(nums, \"\"))  \n",
    "print(next(nums, \"\"))\n",
    "print(next(nums, \"\"))\n",
    "print(next(nums, \"\"))\n",
    "print(next(nums, \"\"))\n",
    "print(next(nums, 'no value')) # print no value because the generator is finished\n",
    "\n",
    "fruits = [\"apple\", \"banana\", \"cherry\"]\n",
    "itr_friuts = iter(fruits)\n",
    "\n",
    "print(next(itr_friuts,None))  # Output: apple\n",
    "print(next(itr_friuts,None))  # Output: banana\n",
    "print(next(itr_friuts,None))  # Output: cherry\n",
    "print(next(itr_friuts,None))  # Output: None"
   ]
  }
 ],
 "metadata": {
  "kernelspec": {
   "display_name": "python12",
   "language": "python",
   "name": "python3"
  },
  "language_info": {
   "codemirror_mode": {
    "name": "ipython",
    "version": 3
   },
   "file_extension": ".py",
   "mimetype": "text/x-python",
   "name": "python",
   "nbconvert_exporter": "python",
   "pygments_lexer": "ipython3",
   "version": "3.12.0"
  }
 },
 "nbformat": 4,
 "nbformat_minor": 5
}

{
 "cells": [
  {
   "cell_type": "markdown",
   "id": "43684084",
   "metadata": {},
   "source": [
    "## The re (regex) library is a powerfull library used for string manupulations "
   ]
  },
  {
   "cell_type": "markdown",
   "id": "a0ada24b",
   "metadata": {},
   "source": [
    "## **Methods of re library**\n",
    "### `1. re.search()`\n",
    " - \tLooks for a match anywhere in the string.\n",
    "### `2. re.match()`\n",
    " - \tChecks if the string starts with the pattern.\n",
    "### `3. re.findall()`\n",
    " - \tReturns all non-overlapping matches as a list.\n",
    "### `4. re.sub()`\n",
    " - \tReplaces parts of the string that match a pattern.\n",
    "### `5. re.split()`\n",
    " - Splits the string by a regex pattern.\n",
    "### `6. re.compile()`\n",
    " - Compiles a pattern into a regex object for reuse."
   ]
  },
  {
   "cell_type": "markdown",
   "id": "11e85ce6",
   "metadata": {},
   "source": [
    "## **First we talk about re.search() method**\n",
    "---\n",
    " - The re.search() scans the whole string.\n",
    " - And gives the first match answer.\n",
    "### **Parameters**\n",
    "- `pattern` : The regex pattern to search for.\n",
    "\n",
    "- `string` : The string you want to search in.\n",
    "\n",
    "- `flags` :  Optional modifiers (like re.IGNORECASE, re.MULTILINE, etc.)\n",
    "\n",
    "### **Return Values**\n",
    "- Give the match object, if exists.\n",
    "- If not exists then give None.\n",
    "\n",
    "### **You can extract the information:**\n",
    "\n",
    "- By using `.group()` method, which gives the actual match object or text.\n",
    "\n",
    "-  `.start()`: By using this method you obtain the starting position of text in string (in numbers).\n",
    "\n",
    "-  `.end()`: By using this method you obtain the ending position of text in string (in numbers).\n",
    " \n",
    "- `.span()` : This method gives a tuple of .start() and .end() values."
   ]
  },
  {
   "cell_type": "code",
   "execution_count": null,
   "id": "4b869da8",
   "metadata": {},
   "outputs": [
    {
     "name": "stdout",
     "output_type": "stream",
     "text": [
      "match value:  Th\n",
      "match value start position:  0\n",
      "match value end position:  2\n",
      "match value both position position:  (0, 2)\n"
     ]
    }
   ],
   "source": [
    "import re\n",
    "# example of re.search\n",
    "\n",
    "name : str = \"This is a test string 000\" # indexing start from 0\n",
    "\n",
    "# test_pattern : str = \"py\"\n",
    "# match : str = re.search(test_pattern, name) # it will search the pattern in the string\n",
    "\n",
    "match1 : str = re.search(r\"Th\", name) # it will search the pattern in the string\n",
    "\n",
    "if match1:\n",
    "    print(\"match value: \", match1.group())\n",
    "    print(\"match value start position: \", match1.start())\n",
    "    print(\"match value end position: \", match1.end())\n",
    "    print(\"match value both position position: \", match1.span())\n",
    "else:\n",
    "    print(\"No match found\")\n"
   ]
  },
  {
   "cell_type": "markdown",
   "id": "663c0f9e",
   "metadata": {},
   "source": [
    "## Now using **flags** in re.search method \n",
    "- ### Flags are optional settings that modify the behavior of search() method\n",
    "- ### There are several types of flags used in search() method\n",
    "## **First using re.IGNORECASE or re.I flag**"
   ]
  },
  {
   "cell_type": "code",
   "execution_count": null,
   "id": "4ae3d87b",
   "metadata": {},
   "outputs": [
    {
     "name": "stdout",
     "output_type": "stream",
     "text": [
      "IFRAQ\n"
     ]
    }
   ],
   "source": [
    "import re\n",
    "# 1. re.IGNORECASE Or re.I -> This flag makes the search case-insensitive.\n",
    "\n",
    "father_name : str = \"my father name is IFRAQ\"\n",
    "# match2 = re.search(r'ifraq', father_name) gives AttributeError: 'NoneType' object has no attribute 'group'\n",
    "match2 = re.search('ifraq', father_name, re.I) # it will search the pattern in the string\n",
    "print(match2.group())"
   ]
  },
  {
   "cell_type": "markdown",
   "id": "4d75b93b",
   "metadata": {},
   "source": [
    "## Using **re.MULTILINE** or **re.M**\n",
    "\n",
    "- ### This flag allows the **^** to check at the start of every line.\n",
    "- ### This flag allows the **$** to check at the end of every line.\n",
    "\n",
    "## Without it:\n",
    "- ### This symbol **^** checks at the start of first line.\n",
    "- ### This symbol **$** checks at the end of last line.\n"
   ]
  },
  {
   "cell_type": "code",
   "execution_count": 5,
   "id": "c4c826dc",
   "metadata": {},
   "outputs": [
    {
     "name": "stdout",
     "output_type": "stream",
     "text": [
      "None\n",
      "It\n",
      "None\n",
      "second\n"
     ]
    }
   ],
   "source": [
    "import re\n",
    "message : str = '''This is a first line\n",
    "It is second\n",
    "And it is last line.\n",
    "'''\n",
    "\n",
    "# making two patterns for first and last line\n",
    "first_pattern : str = '^It'\n",
    "last_pattern : str = 'second$'\n",
    "\n",
    "# match the first pattern (without re.M flag) \n",
    "match : str = re.search(first_pattern, message) # without flag it will give None\n",
    "print(match)\n",
    "\n",
    "# match the first pattern (with re.M flag) \n",
    "match : str = re.search(first_pattern, message, re.M) # with flag it will give the match value\n",
    "print(match.group()) \n",
    "\n",
    "# match the last pattern (without re.M flag) \n",
    "match : str = re.search(last_pattern, message) # without flag it will give None\n",
    "print(match)\n",
    "\n",
    "# match the last pattern (with re.M flag) \n",
    "match : str = re.search(last_pattern, message, re.M) # with flag it will give the match value\n",
    "print(match.group()) "
   ]
  },
  {
   "cell_type": "markdown",
   "id": "897a4b5b",
   "metadata": {},
   "source": [
    "## **Using re.DOTALL or re.S flag**\n",
    "- ### This flag enables the **DOT (.)** symbol to match the newline character.\n",
    "---\n",
    "## What is the working of **DOT (.)** symbol.\n",
    "- By default the . symbol matches any single character (only) that fits between two boundaries.Like if i write **a.b** -> then it means a + any single character + b. e.g. aab,acb,ahb, etc\n",
    "- We can also use **.** with no boundaries in this way it prints all single characters except new line in an array.\n",
    "- We also use . symbol with any any single boundary like **a.** it means any single character which starts from a in a string, like is there any word $alpha$ then it picks $al$ as output\n",
    "- And also in this way **.a** it means any single character that ends on a like above example in $alpha$ it picks $ha$ as output.\n",
    "- An important thing about this symbol is that it gives the first match value."
   ]
  },
  {
   "cell_type": "code",
   "execution_count": 6,
   "id": "62951295",
   "metadata": {},
   "outputs": [
    {
     "data": {
      "text/plain": [
       "None"
      ]
     },
     "metadata": {},
     "output_type": "display_data"
    },
    {
     "data": {
      "text/plain": [
       "<re.Match object; span=(0, 22), match='This is first line \\n T'>"
      ]
     },
     "metadata": {},
     "output_type": "display_data"
    }
   ],
   "source": [
    "import re\n",
    "# first using dot (.) symbol \n",
    "name1 : str = 'This is a string'\n",
    "match : str = re.search(r's.', name1) # prints s actually 's ' because space is also a character\n",
    "# display(match.group())\n",
    "\n",
    "name2 : str = 'This is a string'\n",
    "match : str = re.search(r'.s', name2) # prints is as only one dot before s\n",
    "# display(match.group())\n",
    "\n",
    "name3 : str = 'This is a string'\n",
    "match : str = re.search(r'...s', name3) # prints this because 3 dots before s\n",
    "# display(match.group())\n",
    "\n",
    "# but this method fails in newline characters\n",
    "name4 : str = \"This is first line \\n This is second line.\"\n",
    "match : str = re.search(r'T.*T', name4) # because it will not match the newline character\n",
    "display(match) # prints None\n",
    "\n",
    "# Now using re.DOTALL flag \n",
    "name5 : str = \"This is first line \\n This is second line.\"\n",
    "match : str = re.search(r'T.*T', name4, re.S) # because it will not match the newline character\n",
    "display(match) # prints None"
   ]
  },
  {
   "cell_type": "markdown",
   "id": "4a4fac1a",
   "metadata": {},
   "source": [
    "### **There are other flags like re.X (VERBOSE), re.A (ASCII) and re.L (LOCAL).**\n",
    "### **But they are not use as much.**"
   ]
  },
  {
   "cell_type": "markdown",
   "id": "d6015ed7",
   "metadata": {},
   "source": [
    "---\n",
    "## **Now exploring special sequences in `re` library.**\n",
    "- ### first we will discuss about \\w and \\W.\n",
    "\n",
    "### 🔹 **\\w**\n",
    "- \\w mathches any word character in a string, that may be:\n",
    "    - All uppercase characters (A-Z).\n",
    "    - All lowercase characters (a-z).\n",
    "    - All digits (0-9).\n",
    "    - All underscores (_).\n",
    "\n",
    "### 🔹 **\\W**\n",
    "- \\W mathches any non-word character in a string, that may be:\n",
    "    - Spaces\n",
    "    - Punctuations (@, !, ., ~, etc).\n",
    "    - symbols.\n",
    "    - newlines.\n",
    "    - etc.\n"
   ]
  },
  {
   "cell_type": "code",
   "execution_count": null,
   "id": "b3608868",
   "metadata": {},
   "outputs": [
    {
     "name": "stdout",
     "output_type": "stream",
     "text": [
      "L\n",
      "-\n"
     ]
    }
   ],
   "source": [
    "import re\n",
    "address : str = 'L-972 sector 11-E, M.T, North Karachi!'\n",
    "\n",
    "match : str = re.search(r'\\w', address) # it will match the first word character in the string\n",
    "print(match.group()) # prints L\n",
    "\n",
    "match : str = re.search(r'\\W', address)\n",
    "print(match.group()) # prints -\n"
   ]
  },
  {
   "cell_type": "markdown",
   "id": "8e8a6438",
   "metadata": {},
   "source": [
    "## **Now \\d and \\D**\n",
    "### **&#x25C6; \\d**\n",
    "  - Matches only single digit from 0-9.\n",
    "  - [0-9]\n",
    "\n",
    "### **&#x25C6; \\D**\n",
    "  - Matches a single non-digit character.\n",
    "  - [^0-9]"
   ]
  },
  {
   "cell_type": "code",
   "execution_count": null,
   "id": "41c4e505",
   "metadata": {},
   "outputs": [
    {
     "name": "stdout",
     "output_type": "stream",
     "text": [
      "1\n",
      "H\n"
     ]
    }
   ],
   "source": [
    "import re\n",
    "\n",
    "text = \"House no. 129B, Block 4A\"\n",
    "match : str = re.search(r'\\d', text) # it will match the first digit in the string\n",
    "print(match.group()) # prints 1\n",
    "\n",
    "match : str = re.search(r'\\D', text)\n",
    "print(match.group()) # prints H\n"
   ]
  },
  {
   "cell_type": "markdown",
   "id": "3bd05921",
   "metadata": {},
   "source": [
    "## **Now \\s and \\S**\n",
    "### **&#x25C6; \\s**\n",
    "- Matches any whitespace character, including:\n",
    "    - space (' ').\n",
    "    - tab (\\t).\n",
    "    - newline (\\n).\n",
    "    - carriage return (\\r).\n",
    "    - form feed (\\f).\n",
    "    - vertical tab (\\v).\n",
    "### Equivalent to: [ \\t, \\n, \\r, \\f, \\v ]\n",
    "### **&#x25C6; \\S**\n",
    "- Matches any character except whitespace.\n",
    "### Equivalent to: [^ \\t, \\n, \\r, \\f, \\v ]\n",
    "\n",
    "\n"
   ]
  },
  {
   "cell_type": "code",
   "execution_count": 16,
   "id": "5560fc68",
   "metadata": {},
   "outputs": [
    {
     "data": {
      "text/plain": [
       "' '"
      ]
     },
     "metadata": {},
     "output_type": "display_data"
    },
    {
     "data": {
      "text/plain": [
       "'H'"
      ]
     },
     "metadata": {},
     "output_type": "display_data"
    }
   ],
   "source": [
    "import re\n",
    "\n",
    "text = \"Hello 123\\tWorld\\nNew Line\"\n",
    "match : str = re.search(r'\\s', text) # it will match the first whitespace character in the string\n",
    "display(match.group()) # prints space\n",
    "\n",
    "match : str = re.search(r'\\S', text) # it will match the first whitespace character in the string\n",
    "display(match.group()) # prints H"
   ]
  },
  {
   "cell_type": "markdown",
   "id": "63983283",
   "metadata": {},
   "source": [
    "## **Now \\b and \\D**\n",
    "### **&#x25C6; \\b -Word Boundary**\n",
    "- Matches the position between:\n",
    "    - A word character (\\w) and.\n",
    "    - A non-word character (\\W) or start/end of string.\n",
    "    - It's useful for finding whole words.\n",
    "- It doesn't consume any characters — it just checks where a word begins or ends.\n",
    "\n",
    "### **&#x25C6; \\B -Not a Word Boundary**\n",
    "- Matches a position not at a word boundary.\n",
    "- So it's inside a word (between two word characters, like between **e** and **l** in **\"hello\"**).\n",
    "\n"
   ]
  },
  {
   "cell_type": "code",
   "execution_count": 31,
   "id": "80210453",
   "metadata": {},
   "outputs": [
    {
     "name": "stdout",
     "output_type": "stream",
     "text": [
      "a\n",
      "bad\n"
     ]
    }
   ],
   "source": [
    "import re\n",
    "\n",
    "text = \"This is a test. Testing word-boundary!\"\n",
    "match : str = re.search(r'\\ba', text) # it will match the first word in the string\n",
    "print(match.group()) # prints a\n",
    "\n",
    "match : str = re.search(r'\\Bbad\\B', \"abaddream\")\n",
    "print(match.group()) # prints "
   ]
  },
  {
   "cell_type": "markdown",
   "id": "e0132c11",
   "metadata": {},
   "source": [
    "# **Now let's talk about re.match() method**\n",
    "### &#x25C6; **re.match()**.\n",
    "- Tries to match a pattern only at the beginning of the string.\n",
    "- If the pattern starts exactly at position 0, it returns a `match` object. Otherwise, it returns `None`.\n",
    "### &#x25C6; **Parameters**.\n",
    "- `pattern`: The regex pattern to match.\n",
    "\n",
    "- `string`: The string to test against.\n",
    "\n",
    "- `flags`: (Optional) Regex flags like, re.IGNORECASE\n",
    "### &#x25C6; **Think of it like this**.\n",
    "### **re.match() says**\n",
    " - Hey, does this pattern start the string?\n",
    "\n",
    " - if yes, it gives the match.\n",
    "\n",
    " - if no, it gives None.\n",
    "\n"
   ]
  },
  {
   "cell_type": "code",
   "execution_count": 33,
   "id": "626afc65",
   "metadata": {},
   "outputs": [
    {
     "name": "stdout",
     "output_type": "stream",
     "text": [
      "Hello\n",
      "None\n"
     ]
    }
   ],
   "source": [
    "import re\n",
    "\n",
    "text : str = \"Hello world\"\n",
    "\n",
    "result = re.match(r'Hello', text)\n",
    "print(result.group())  # ✅ Output: Hello\n",
    "\n",
    "result = re.match(r'world', text)\n",
    "print(result)  #  Output: None\n"
   ]
  },
  {
   "cell_type": "markdown",
   "id": "9303e4cb",
   "metadata": {},
   "source": [
    "# &#x25C6; **re.findall() method**.\n",
    "- The `re.findall()` function searches through the entire string and returns all non-overlapping matches of a pattern as a list of strings.\n",
    "\n",
    "- It does not return match objects — it returns the actual matched substrings.\n",
    "# &#x25C6; **Parameters**.\n",
    "- `pattern`: The regular expression you want to search with.\n",
    "\n",
    "- `string`: The string to search in.\n",
    "\n",
    "- `flags`: Optional flags like re.IGNORECASE."
   ]
  },
  {
   "cell_type": "code",
   "execution_count": 50,
   "id": "0541c933",
   "metadata": {},
   "outputs": [
    {
     "name": "stdout",
     "output_type": "stream",
     "text": [
      "['123', '456', '7890', '007']\n",
      "['Hello', 'how', 'are', 'you']\n",
      "[('Name', 'John'), ('Age', '30'), ('city', '3')]\n"
     ]
    }
   ],
   "source": [
    "import re\n",
    "\n",
    "text1 = \"Phone: 123-456-7890, Code: 007\"\n",
    "matches = re.findall(r'\\d+', text1)\n",
    "print(matches) # Output: ['123', '456', '7890', '007']\n",
    "\n",
    "text2 = \"Hello, how are you?\"\n",
    "matches = re.findall(r'\\w+', text2)\n",
    "print(matches) # Output: ['Hello', 'how', 'are', 'you']\n",
    "\n",
    "text = \"Name: John, Age: 30, city: 3\"\n",
    "matches = re.findall(r'(\\w+): (\\w+)', text)\n",
    "print(matches) # Output: [('Name', 'John'), ('Age', '30')]\n",
    "\n"
   ]
  },
  {
   "cell_type": "markdown",
   "id": "f3ca98df",
   "metadata": {},
   "source": [
    "# **&#x25C6; re.sub()**.\n",
    "- Here `sub` stands for `substitute`.\n",
    "- It searches for a pattern in a string and replaces it with something else.\n",
    "# **&#x25C6; Parameters**.\n",
    "- `pattern`: The regex pattern to search for.\n",
    "\n",
    "- `replacement`: The string to replace each match with.\n",
    "\n",
    "- `string`: The original text.\n",
    "\n",
    "- `count` (optional): The number of replacements (default = 0, meaning replace all).\n",
    "\n",
    "- `flags` (optional): For flags like re.IGNORECASE."
   ]
  },
  {
   "cell_type": "code",
   "execution_count": null,
   "id": "1dc4ab67",
   "metadata": {},
   "outputs": [
    {
     "name": "stdout",
     "output_type": "stream",
     "text": [
      "My phone number is ###-456\n",
      "Hello Are you there Yes I am\n"
     ]
    }
   ],
   "source": [
    "import re\n",
    "\n",
    "text = \"My phone number is 123-456\"\n",
    "new_text = re.sub(r'\\d', '#', text, 3) # replace first 3 digits with '#'\n",
    "print(new_text) # Output: My phone number is ###-###-####\n",
    "\n",
    "# remove all the punctuation marks\n",
    "\n",
    "text = \"Hello! Are you there? Yes, I am.\"\n",
    "cleaned = re.sub(r'[^\\w\\s]', '', text)\n",
    "print(cleaned) # Output: Hello Are you there Yes I am\n"
   ]
  },
  {
   "cell_type": "markdown",
   "id": "aedd6cdd",
   "metadata": {},
   "source": [
    "# **&#x25C6; re.split()**.\n",
    "- This method is used to **split** a string by the occurrences of a pattern.\n",
    "# **&#x25C6; Parameters**.\n",
    "- `pattern`: The regular expression pattern used to split the string.\n",
    "\n",
    "- `string`: The string you want to split.\n",
    "\n",
    "- `maxsplit` (optional): Maximum number of splits. 0 means no limit.\n",
    "\n",
    "- `flags` (optional): Special matching behavior like re.IGNORECASE.\n",
    "# **&#x25C6; Returns:**.\n",
    "- A list of strings split by the specified pattern.\n",
    "- And None if not match.\n"
   ]
  },
  {
   "cell_type": "code",
   "execution_count": 10,
   "id": "e89bed7c",
   "metadata": {},
   "outputs": [
    {
     "name": "stdout",
     "output_type": "stream",
     "text": [
      "['apple', 'banana', 'cherry', 'orange']\n",
      "['one', 'two,three', 'four five']\n"
     ]
    }
   ],
   "source": [
    "import re\n",
    "\n",
    "text1 = \"apple,banana;cherry orange\"\n",
    "result = re.split(r'[;, ]', text1, 0)\n",
    "# Output: ['apple', 'banana', 'cherry', 'orange']\n",
    "print(result)\n",
    "\n",
    "text2 = \"one two,three four five\"\n",
    "result = re.split(r'\\s', text2, maxsplit=2)\n",
    "print(result)\n",
    "\n"
   ]
  },
  {
   "cell_type": "markdown",
   "id": "3223cf1d",
   "metadata": {},
   "source": [
    "# **&#x25C6; re.compile()**.\n",
    "- Saves the pattern so you can reuse it with different regex methods like:\n",
    "    - `.match()`\n",
    "\n",
    "    - `.search()`\n",
    "\n",
    "    - `.findall()`\n",
    "\n",
    "    - `.sub()`\n",
    "    \n",
    "    - `.split()`\n",
    "# **&#x25C6; Parameters**.\n",
    "- `pattern`: The regular expression or pattern to save, as a string.\n",
    "\n",
    "- `flags` (optional): Modify the regex behavior, e.g., re.IGNORECASE, re.MULTILINE."
   ]
  },
  {
   "cell_type": "code",
   "execution_count": 22,
   "id": "d6422225",
   "metadata": {},
   "outputs": [
    {
     "name": "stdout",
     "output_type": "stream",
     "text": [
      "['1', '30']\n",
      "<re.Match object; span=(0, 5), match='Hello'>\n"
     ]
    }
   ],
   "source": [
    "import re\n",
    "\n",
    "pattern1 = re.compile(r'\\d+')  # Matches one or more digits\n",
    "result = pattern1.findall(\"Item 1 costs 30 dollars\")\n",
    "print(result) # Output: ['1', '30']\n",
    "\n",
    "pattern2 = re.compile(r'hello', re.IGNORECASE)\n",
    "result = pattern2.match(\"Hello world\")\n",
    "print(result)\n"
   ]
  }
 ],
 "metadata": {
  "kernelspec": {
   "display_name": "python12",
   "language": "python",
   "name": "python3"
  },
  "language_info": {
   "codemirror_mode": {
    "name": "ipython",
    "version": 3
   },
   "file_extension": ".py",
   "mimetype": "text/x-python",
   "name": "python",
   "nbconvert_exporter": "python",
   "pygments_lexer": "ipython3",
   "version": "3.12.0"
  }
 },
 "nbformat": 4,
 "nbformat_minor": 5
}
